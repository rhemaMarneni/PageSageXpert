{
 "cells": [
  {
   "cell_type": "code",
   "execution_count": 1,
   "id": "97a30b79-a2fb-4c62-b882-ceafbd438a10",
   "metadata": {
    "tags": []
   },
   "outputs": [],
   "source": [
    "import csv\n",
    "import json\n",
    "import numpy as np\n",
    "import pandas as pd\n",
    "import networkx as nx\n",
    "import matplotlib.pyplot as plt\n",
    "from pyspark.sql import SparkSession\n",
    "from pyspark.sql.functions import col\n",
    "from pyspark.rdd import RDD"
   ]
  },
  {
   "cell_type": "code",
   "execution_count": 2,
   "id": "f5f1e6ed-793c-4f56-ad9b-c03ac0f37a5c",
   "metadata": {
    "tags": []
   },
   "outputs": [
    {
     "name": "stderr",
     "output_type": "stream",
     "text": [
      "23/11/15 05:35:39 WARN SparkSession: Using an existing Spark session; only runtime SQL configurations will take effect.\n",
      "                                                                                \r"
     ]
    }
   ],
   "source": [
    "spark = SparkSession.builder.appName(\"Sparkpagerank\").getOrCreate()\n",
    "\n",
    "page_df = spark.read.csv(\"page.csv\", header=True, inferSchema=True)\n",
    "link_df = spark.read.json(\"link_annotated_text.jsonl\")\n",
    "item_df = spark.read.csv(\"item.csv\", header=True, inferSchema=True)\n",
    "property_df = spark.read.csv(\"property.csv\", header=True, inferSchema=True)\n",
    "statements_df = spark.read.csv(\"statements.csv\", header=True)"
   ]
  },
  {
   "cell_type": "code",
   "execution_count": null,
   "id": "5c9d8f9d-6ee7-448e-a38f-d123a46af199",
   "metadata": {},
   "outputs": [],
   "source": [
    "page_f"
   ]
  },
  {
   "cell_type": "code",
   "execution_count": 3,
   "id": "efcb82eb-975a-44a1-8ec8-1a2b9ef90b3f",
   "metadata": {
    "tags": []
   },
   "outputs": [
    {
     "name": "stderr",
     "output_type": "stream",
     "text": [
      "                                                                                \r"
     ]
    },
    {
     "name": "stdout",
     "output_type": "stream",
     "text": [
      "+-------+--------------------+\n",
      "|page_id|     target_item_ids|\n",
      "+-------+--------------------+\n",
      "|    330|[5282, 5282, 2005...|\n",
      "|    656|[19555, 18963787,...|\n",
      "|    677|[4100885, 63778, ...|\n",
      "|    705|[206578, 25536, 3...|\n",
      "|    736|[30001, 25202, 42...|\n",
      "|    857|[1514856, 357427,...|\n",
      "|   1010|[35428, 35877901,...|\n",
      "|   1055|[52303, 28297, 34...|\n",
      "|   1152|[175724, 7406, 53...|\n",
      "|   1175|[35251, 1095706, ...|\n",
      "|   1202|[5213, 454746, 19...|\n",
      "|   1217|[207114, 18956035...|\n",
      "|   1241|[2393552, 29833, ...|\n",
      "|   1336|[2965331, 5971097...|\n",
      "|   1338|[37071, 8900, 562...|\n",
      "|   1360|[75462, 75462, 46...|\n",
      "|   1371|[2611280, 1605489...|\n",
      "|   1374|[4940, 692866, 43...|\n",
      "|   1409|[2462183, 1408, 5...|\n",
      "|   1428|[17730, 247991, 1...|\n",
      "+-------+--------------------+\n",
      "only showing top 20 rows\n",
      "\n"
     ]
    },
    {
     "name": "stderr",
     "output_type": "stream",
     "text": [
      "[Stage 12:====================================================> (132 + 4) / 136]\r"
     ]
    }
   ],
   "source": [
    "from pyspark.sql.functions import col, explode, collect_list\n",
    "\n",
    "# Explode the 'sections' array\n",
    "exploded_df = link_df.select(\"page_id\", explode(\"sections\").alias(\"section\"))\n",
    "\n",
    "# Select the 'page_id' and 'target_page_ids' from the exploded DataFrame\n",
    "all_page_target_ids = exploded_df.select(\"page_id\", \"section.target_page_ids\")\n",
    "\n",
    "# Explode the 'target_page_ids' array to separate rows\n",
    "exploded_target_ids = all_page_target_ids.select(\"page_id\", explode(\"target_page_ids\").alias(\"target_item_ids\"))\n",
    "\n",
    "# Group by 'page_id' and collect the 'target_item_ids' into lists for each page\n",
    "page_target_lists = exploded_target_ids.groupBy(\"page_id\").agg(collect_list(\"target_item_ids\").alias(\"target_item_ids\"))\n",
    "\n",
    "# Show the result\n",
    "#page_target_lists.show()\n",
    "\n",
    "# To create a new DataFrame with 'page_id' and 'target_item_ids' columns\n",
    "new_df = page_target_lists.select(\"page_id\", \"target_item_ids\")\n",
    "\n",
    "# Show the new DataFrame\n",
    "new_df.show()\n",
    "\n",
    "\n",
    "edges = new_df.rdd.map(lambda row: (row['page_id'], row['target_item_ids']))\n",
    "vertices_rdd = page_target_lists.select(\"page_id\").rdd.map(lambda row: row[0])\n",
    "\n",
    "# Assuming your DataFrame is named 'new_df'\n",
    "rdd = new_df.rdd"
   ]
  },
  {
   "cell_type": "code",
   "execution_count": null,
   "id": "6a078086-57e7-492b-8352-97ef7b7c6a38",
   "metadata": {},
   "outputs": [],
   "source": []
  },
  {
   "cell_type": "code",
   "execution_count": 4,
   "id": "154d84f9-5226-46f3-b385-d6644712e170",
   "metadata": {
    "tags": []
   },
   "outputs": [],
   "source": [
    "\n",
    "# Define a function to map each row to the desired format\n",
    "def map_to_desired_format(row):\n",
    "    page_id = row.page_id\n",
    "    target_item_ids = row.target_item_ids\n",
    "    degree = len(target_item_ids)\n",
    "    return (page_id, degree, target_item_ids)\n",
    "\n",
    "# Apply the mapping function to the RDD\n",
    "result_rdd = rdd.map(map_to_desired_format)"
   ]
  },
  {
   "cell_type": "code",
   "execution_count": null,
   "id": "c25a3d85-c230-4dc6-a4e6-e89331fd2d6c",
   "metadata": {},
   "outputs": [],
   "source": [
    "N = 5362174\n",
    "\n",
    "#initialize rold with 1/N\n",
    "r_old = vertices_rdd.map(lambda x: (x, 1/N))\n",
    "\n",
    "#initialize rnew with (1-B)/N where B = 0.85 and N = number of vertices\n",
    "#r_new_rdd = vertices_rdd.map(lambda x: (x, (1-B)/N))\n",
    "r_new_rdd = vertices_rdd.zipWithIndex().map(lambda x: (x[0], (x[1] + 1) / N))\n",
    "\n",
    "def divide_r_new_into_blocks(r_new_rdd: RDD, block_size: int):\n",
    "    print(\"divide_r_new_into_blocks\", r_new_rdd, block_size)\n",
    "    r_new_blocks = r_new_rdd.randomSplit([1.0 / block_size] * block_size)\n",
    "    return r_new_blocks\n",
    "\n",
    "r_new_blocks = divide_r_new_into_blocks(r_new_rdd, 100)"
   ]
  },
  {
   "cell_type": "code",
   "execution_count": null,
   "id": "adbd11c3-85d8-460e-a033-e6b4427be1f5",
   "metadata": {},
   "outputs": [],
   "source": []
  },
  {
   "cell_type": "code",
   "execution_count": null,
   "id": "e213de1f-21f7-4ea7-9787-9102e98a749e",
   "metadata": {},
   "outputs": [],
   "source": []
  },
  {
   "cell_type": "code",
   "execution_count": 4,
   "id": "5ec88186-a8f7-4606-a8e8-95cd3935a15c",
   "metadata": {
    "tags": []
   },
   "outputs": [
    {
     "name": "stderr",
     "output_type": "stream",
     "text": [
      "                                                                                \r"
     ]
    }
   ],
   "source": [
    "# Save each block of r_new_blocks to a separate text file\n",
    "for block_number, r_new_block in enumerate(r_new_blocks, start=0):\n",
    "    r_new_block.saveAsTextFile(f'r_new_block_{block_number}')\n"
   ]
  },
  {
   "cell_type": "code",
   "execution_count": 5,
   "id": "c0ea151d-d796-4f1d-8c11-9bae86c97bff",
   "metadata": {
    "tags": []
   },
   "outputs": [
    {
     "name": "stderr",
     "output_type": "stream",
     "text": [
      "23/11/12 04:19:05 WARN SparkSession: Using an existing Spark session; only runtime SQL configurations will take effect.\n"
     ]
    }
   ],
   "source": [
    "from pyspark import SparkContext\n",
    "from pyspark.sql import SparkSession\n",
    "from pyspark import RDD\n",
    "\n",
    "# Initialize Spark\n",
    "spark = SparkSession.builder.appName(\"PageRank\").getOrCreate()\n",
    "sc = spark.sparkContext\n",
    "\n",
    "def divide_r_new_into_blocks(r_new_rdd: RDD, block_size: int):\n",
    "    print(\"divide_r_new_into_blocks\", r_new_rdd, block_size)\n",
    "    r_new_blocks = r_new_rdd.randomSplit([1.0 / block_size] * block_size)\n",
    "    return r_new_blocks\n",
    "\n",
    "\n",
    "def divide_M_into_blocks(M_rdd: RDD, destination_nodes_set: set):\n",
    "    M_block = M_rdd.filter(lambda x: any(node in destination_nodes_set for node in x[2]))\n",
    "    M_block = M_block.map(lambda x: (x[0], x[1], [node for node in x[2] if node in destination_nodes_set]))\n",
    "    return M_block\n",
    "\n",
    "def compute_contributions(node, degree, dest_nodes, pageranks_dict_broadcast):\n",
    "    if degree == 0:\n",
    "        return [(node, 0.0)]\n",
    "    num_neighbors = degree\n",
    "    contributions = []\n",
    "    for dest in dest_nodes:\n",
    "        try:\n",
    "            contribution_value = pageranks_dict_broadcast.value[node] / num_neighbors\n",
    "            contributions.append((dest, contribution_value))\n",
    "        except KeyError:\n",
    "            continue\n",
    "    return contributions\n",
    "\n",
    "def compute_pagerank_for_block(r_new_block: RDD, M_block: RDD, d: float = 0.85, max_iterations: int = 100, convergence_threshold: float = 1e-6):\n",
    "    r_new_block.persist()\n",
    "    M_block.persist()\n",
    "\n",
    "    destination_nodes = M_block.flatMap(lambda x: x[2])\n",
    "    pageranks = r_new_block.map(lambda x: (x[0], x[1]))\n",
    "\n",
    "    prev_pageranks = None\n",
    "\n",
    "    for i in range(max_iterations):\n",
    "        pageranks_dict = pageranks.collectAsMap()\n",
    "        pageranks_dict_broadcast = sc.broadcast(pageranks_dict)\n",
    "\n",
    "        contributions = r_new_block.union(M_block.flatMap(lambda x: compute_contributions(x[0], x[1], x[2], pageranks_dict_broadcast)))\n",
    "\n",
    "        pageranks = contributions.reduceByKey(lambda x, y: x + y).mapValues(lambda x: (1 - d) + d * x)\n",
    "\n",
    "        if prev_pageranks is not None:\n",
    "            max_change = pageranks.join(prev_pageranks).map(lambda x: abs(x[1][0] - x[1][1])).max()\n",
    "            if max_change < convergence_threshold:\n",
    "                print(f\"Converged after {i + 1} iterations.\")\n",
    "                break\n",
    "\n",
    "        prev_pageranks = pageranks\n",
    "\n",
    "    r_new_block.unpersist()\n",
    "    M_block.unpersist()\n",
    "\n",
    "    return pageranks\n",
    "\n"
   ]
  },
  {
   "cell_type": "code",
   "execution_count": 7,
   "id": "51de200b-f3dd-4f69-992d-333d369f40a0",
   "metadata": {
    "tags": []
   },
   "outputs": [
    {
     "name": "stderr",
     "output_type": "stream",
     "text": [
      "                                                                                \r"
     ]
    },
    {
     "name": "stdout",
     "output_type": "stream",
     "text": [
      "Converged after 44 iterations.\n",
      "Block 0 completed\n"
     ]
    },
    {
     "name": "stderr",
     "output_type": "stream",
     "text": [
      "                                                                                \r"
     ]
    },
    {
     "name": "stdout",
     "output_type": "stream",
     "text": [
      "Converged after 81 iterations.\n",
      "Block 1 completed\n"
     ]
    },
    {
     "name": "stderr",
     "output_type": "stream",
     "text": [
      "                                                                                \r"
     ]
    },
    {
     "name": "stdout",
     "output_type": "stream",
     "text": [
      "Converged after 32 iterations.\n",
      "Block 2 completed\n"
     ]
    },
    {
     "name": "stderr",
     "output_type": "stream",
     "text": [
      "                                                                                \r"
     ]
    },
    {
     "name": "stdout",
     "output_type": "stream",
     "text": [
      "Converged after 61 iterations.\n",
      "Block 3 completed\n"
     ]
    },
    {
     "name": "stderr",
     "output_type": "stream",
     "text": [
      "                                                                                \r"
     ]
    },
    {
     "name": "stdout",
     "output_type": "stream",
     "text": [
      "Converged after 17 iterations.\n",
      "Block 4 completed\n"
     ]
    },
    {
     "name": "stderr",
     "output_type": "stream",
     "text": [
      "                                                                                \r"
     ]
    },
    {
     "name": "stdout",
     "output_type": "stream",
     "text": [
      "Converged after 38 iterations.\n",
      "Block 5 completed\n"
     ]
    },
    {
     "name": "stderr",
     "output_type": "stream",
     "text": [
      "                                                                                \r"
     ]
    },
    {
     "name": "stdout",
     "output_type": "stream",
     "text": [
      "Converged after 80 iterations.\n",
      "Block 6 completed\n"
     ]
    },
    {
     "name": "stderr",
     "output_type": "stream",
     "text": [
      "                                                                                \r"
     ]
    },
    {
     "name": "stdout",
     "output_type": "stream",
     "text": [
      "Converged after 43 iterations.\n",
      "Block 7 completed\n"
     ]
    },
    {
     "name": "stderr",
     "output_type": "stream",
     "text": [
      "                                                                                \r"
     ]
    },
    {
     "name": "stdout",
     "output_type": "stream",
     "text": [
      "Converged after 62 iterations.\n",
      "Block 8 completed\n"
     ]
    },
    {
     "name": "stderr",
     "output_type": "stream",
     "text": [
      "                                                                                \r"
     ]
    },
    {
     "name": "stdout",
     "output_type": "stream",
     "text": [
      "Converged after 75 iterations.\n",
      "Block 9 completed\n"
     ]
    }
   ],
   "source": [
    "# Set the desired range of blocks to run (0 to 9)\n",
    "start_block = 0\n",
    "end_block = 9\n",
    "\n",
    "# Iterate over the specified range of blocks\n",
    "for block_number in range(start_block, end_block + 1):\n",
    "    # Read the r_new_block from text file\n",
    "    r_new_block_path = f'r_new_block_{block_number}'\n",
    "    r_new_block = sc.textFile(r_new_block_path).map(eval)\n",
    "\n",
    "    # Create a set of destination nodes from r_new_block\n",
    "    destination_nodes_set = set(r_new_block.map(lambda x: x[0]).collect())\n",
    "\n",
    "    # Divide M into the corresponding block\n",
    "    M_block = divide_M_into_blocks(result_rdd, destination_nodes_set)\n",
    "\n",
    "    # Perform PageRank computation for the current block\n",
    "    pagerank_results = compute_pagerank_for_block(r_new_block, M_block)\n",
    "\n",
    "    # Open the CSV file in append mode and write the PageRank results for the current block\n",
    "    with open('final_pageranks0.csv', 'a', newline='') as csv_file:\n",
    "        csv_writer = csv.writer(csv_file)\n",
    "\n",
    "        # Write the header row if the file is empty\n",
    "        if csv_file.tell() == 0:\n",
    "            csv_writer.writerow(['Node', 'PageRank'])\n",
    "\n",
    "        for node, pagerank in pagerank_results.collect():\n",
    "            csv_writer.writerow([node, pagerank])\n",
    "\n",
    "    # Print the block number completed\n",
    "    print(f\"Block {block_number} completed\")\n"
   ]
  },
  {
   "cell_type": "code",
   "execution_count": 8,
   "id": "95cfbb77-7066-4f32-b893-6dc9d43ab684",
   "metadata": {
    "tags": []
   },
   "outputs": [
    {
     "name": "stderr",
     "output_type": "stream",
     "text": [
      "                                                                                \r"
     ]
    },
    {
     "name": "stdout",
     "output_type": "stream",
     "text": [
      "Converged after 60 iterations.\n",
      "Block 10 completed\n"
     ]
    },
    {
     "name": "stderr",
     "output_type": "stream",
     "text": [
      "                                                                                \r"
     ]
    },
    {
     "name": "stdout",
     "output_type": "stream",
     "text": [
      "Converged after 58 iterations.\n",
      "Block 11 completed\n"
     ]
    },
    {
     "name": "stderr",
     "output_type": "stream",
     "text": [
      "                                                                                \r"
     ]
    },
    {
     "name": "stdout",
     "output_type": "stream",
     "text": [
      "Converged after 70 iterations.\n",
      "Block 12 completed\n"
     ]
    },
    {
     "name": "stderr",
     "output_type": "stream",
     "text": [
      "                                                                                \r"
     ]
    },
    {
     "name": "stdout",
     "output_type": "stream",
     "text": [
      "Converged after 35 iterations.\n",
      "Block 13 completed\n"
     ]
    },
    {
     "name": "stderr",
     "output_type": "stream",
     "text": [
      "                                                                                \r"
     ]
    },
    {
     "name": "stdout",
     "output_type": "stream",
     "text": [
      "Converged after 49 iterations.\n",
      "Block 14 completed\n"
     ]
    },
    {
     "name": "stderr",
     "output_type": "stream",
     "text": [
      "                                                                                \r"
     ]
    },
    {
     "name": "stdout",
     "output_type": "stream",
     "text": [
      "Converged after 23 iterations.\n",
      "Block 15 completed\n"
     ]
    },
    {
     "name": "stderr",
     "output_type": "stream",
     "text": [
      "                                                                                \r"
     ]
    },
    {
     "name": "stdout",
     "output_type": "stream",
     "text": [
      "Converged after 85 iterations.\n",
      "Block 16 completed\n"
     ]
    },
    {
     "name": "stderr",
     "output_type": "stream",
     "text": [
      "                                                                                \r"
     ]
    },
    {
     "name": "stdout",
     "output_type": "stream",
     "text": [
      "Converged after 40 iterations.\n",
      "Block 17 completed\n"
     ]
    },
    {
     "name": "stderr",
     "output_type": "stream",
     "text": [
      "                                                                                \r"
     ]
    },
    {
     "name": "stdout",
     "output_type": "stream",
     "text": [
      "Converged after 82 iterations.\n"
     ]
    },
    {
     "name": "stderr",
     "output_type": "stream",
     "text": [
      "                                                                                \r"
     ]
    },
    {
     "name": "stdout",
     "output_type": "stream",
     "text": [
      "Block 18 completed\n"
     ]
    },
    {
     "name": "stderr",
     "output_type": "stream",
     "text": [
      "                                                                                \r"
     ]
    },
    {
     "name": "stdout",
     "output_type": "stream",
     "text": [
      "Converged after 51 iterations.\n",
      "Block 19 completed\n"
     ]
    }
   ],
   "source": [
    "# Set the desired range of blocks to run (0 to 9)\n",
    "start_block = 10\n",
    "end_block = 19\n",
    "\n",
    "# Iterate over the specified range of blocks\n",
    "for block_number in range(start_block, end_block + 1):\n",
    "    # Read the r_new_block from text file\n",
    "    r_new_block_path = f'r_new_block_{block_number}'\n",
    "    r_new_block = sc.textFile(r_new_block_path).map(eval)\n",
    "\n",
    "    # Create a set of destination nodes from r_new_block\n",
    "    destination_nodes_set = set(r_new_block.map(lambda x: x[0]).collect())\n",
    "\n",
    "    # Divide M into the corresponding block\n",
    "    M_block = divide_M_into_blocks(result_rdd, destination_nodes_set)\n",
    "\n",
    "    # Perform PageRank computation for the current block\n",
    "    pagerank_results = compute_pagerank_for_block(r_new_block, M_block)\n",
    "\n",
    "    # Open the CSV file in append mode and write the PageRank results for the current block\n",
    "    with open('final_pageranks1.csv', 'a', newline='') as csv_file:\n",
    "        csv_writer = csv.writer(csv_file)\n",
    "\n",
    "        # Write the header row if the file is empty\n",
    "        if csv_file.tell() == 0:\n",
    "            csv_writer.writerow(['Node', 'PageRank'])\n",
    "\n",
    "        for node, pagerank in pagerank_results.collect():\n",
    "            csv_writer.writerow([node, pagerank])\n",
    "\n",
    "    # Print the block number completed\n",
    "    print(f\"Block {block_number} completed\")\n"
   ]
  },
  {
   "cell_type": "code",
   "execution_count": 7,
   "id": "46ce9a6b-16f2-4b59-860e-a5a1840ef200",
   "metadata": {
    "tags": []
   },
   "outputs": [
    {
     "name": "stderr",
     "output_type": "stream",
     "text": [
      "                                                                                \r"
     ]
    },
    {
     "name": "stdout",
     "output_type": "stream",
     "text": [
      "Converged after 37 iterations.\n",
      "Block 20 completed\n"
     ]
    },
    {
     "name": "stderr",
     "output_type": "stream",
     "text": [
      "                                                                                \r"
     ]
    },
    {
     "name": "stdout",
     "output_type": "stream",
     "text": [
      "Converged after 82 iterations.\n",
      "Block 21 completed\n"
     ]
    },
    {
     "name": "stderr",
     "output_type": "stream",
     "text": [
      "                                                                                \r"
     ]
    },
    {
     "name": "stdout",
     "output_type": "stream",
     "text": [
      "Converged after 30 iterations.\n",
      "Block 22 completed\n"
     ]
    },
    {
     "name": "stderr",
     "output_type": "stream",
     "text": [
      "                                                                                \r"
     ]
    },
    {
     "name": "stdout",
     "output_type": "stream",
     "text": [
      "Converged after 34 iterations.\n",
      "Block 23 completed\n"
     ]
    },
    {
     "name": "stderr",
     "output_type": "stream",
     "text": [
      "                                                                                \r"
     ]
    },
    {
     "name": "stdout",
     "output_type": "stream",
     "text": [
      "Converged after 56 iterations.\n",
      "Block 24 completed\n"
     ]
    },
    {
     "name": "stderr",
     "output_type": "stream",
     "text": [
      "                                                                                \r"
     ]
    },
    {
     "name": "stdout",
     "output_type": "stream",
     "text": [
      "Converged after 59 iterations.\n",
      "Block 25 completed\n"
     ]
    },
    {
     "name": "stderr",
     "output_type": "stream",
     "text": [
      "                                                                                \r"
     ]
    },
    {
     "name": "stdout",
     "output_type": "stream",
     "text": [
      "Converged after 39 iterations.\n",
      "Block 26 completed\n"
     ]
    },
    {
     "name": "stderr",
     "output_type": "stream",
     "text": [
      "                                                                                \r"
     ]
    },
    {
     "name": "stdout",
     "output_type": "stream",
     "text": [
      "Converged after 78 iterations.\n",
      "Block 27 completed\n"
     ]
    },
    {
     "name": "stderr",
     "output_type": "stream",
     "text": [
      "                                                                                \r"
     ]
    },
    {
     "name": "stdout",
     "output_type": "stream",
     "text": [
      "Converged after 83 iterations.\n",
      "Block 28 completed\n"
     ]
    },
    {
     "name": "stderr",
     "output_type": "stream",
     "text": [
      "                                                                                \r"
     ]
    },
    {
     "name": "stdout",
     "output_type": "stream",
     "text": [
      "Converged after 16 iterations.\n",
      "Block 29 completed\n"
     ]
    }
   ],
   "source": [
    "# Set the desired range of blocks to run (0 to 9)\n",
    "start_block = 20\n",
    "end_block = 29\n",
    "\n",
    "# Iterate over the specified range of blocks\n",
    "for block_number in range(start_block, end_block + 1):\n",
    "    # Read the r_new_block from text file\n",
    "    r_new_block_path = f'r_new_block_{block_number}'\n",
    "    r_new_block = sc.textFile(r_new_block_path).map(eval)\n",
    "\n",
    "    # Create a set of destination nodes from r_new_block\n",
    "    destination_nodes_set = set(r_new_block.map(lambda x: x[0]).collect())\n",
    "\n",
    "    # Divide M into the corresponding block\n",
    "    M_block = divide_M_into_blocks(result_rdd, destination_nodes_set)\n",
    "\n",
    "    # Perform PageRank computation for the current block\n",
    "    pagerank_results = compute_pagerank_for_block(r_new_block, M_block)\n",
    "\n",
    "    # Open the CSV file in append mode and write the PageRank results for the current block\n",
    "    with open('final_pageranks2.csv', 'a', newline='') as csv_file:\n",
    "        csv_writer = csv.writer(csv_file)\n",
    "\n",
    "        # Write the header row if the file is empty\n",
    "        if csv_file.tell() == 0:\n",
    "            csv_writer.writerow(['Node', 'PageRank'])\n",
    "\n",
    "        for node, pagerank in pagerank_results.collect():\n",
    "            csv_writer.writerow([node, pagerank])\n",
    "\n",
    "    # Print the block number completed\n",
    "    print(f\"Block {block_number} completed\")\n"
   ]
  },
  {
   "cell_type": "code",
   "execution_count": 8,
   "id": "d5b2ab30-ca69-4d29-9d5e-861f5ea4d74f",
   "metadata": {},
   "outputs": [
    {
     "name": "stderr",
     "output_type": "stream",
     "text": [
      "                                                                                \r"
     ]
    },
    {
     "name": "stdout",
     "output_type": "stream",
     "text": [
      "Converged after 40 iterations.\n",
      "Block 30 completed\n"
     ]
    },
    {
     "name": "stderr",
     "output_type": "stream",
     "text": [
      "                                                                                \r"
     ]
    },
    {
     "name": "stdout",
     "output_type": "stream",
     "text": [
      "Converged after 51 iterations.\n",
      "Block 31 completed\n"
     ]
    },
    {
     "name": "stderr",
     "output_type": "stream",
     "text": [
      "                                                                                \r"
     ]
    },
    {
     "name": "stdout",
     "output_type": "stream",
     "text": [
      "Converged after 68 iterations.\n",
      "Block 32 completed\n"
     ]
    },
    {
     "name": "stderr",
     "output_type": "stream",
     "text": [
      "                                                                                \r"
     ]
    },
    {
     "name": "stdout",
     "output_type": "stream",
     "text": [
      "Converged after 31 iterations.\n",
      "Block 33 completed\n"
     ]
    },
    {
     "name": "stderr",
     "output_type": "stream",
     "text": [
      "                                                                                \r"
     ]
    },
    {
     "name": "stdout",
     "output_type": "stream",
     "text": [
      "Converged after 29 iterations.\n",
      "Block 34 completed\n"
     ]
    },
    {
     "name": "stderr",
     "output_type": "stream",
     "text": [
      "                                                                                \r"
     ]
    },
    {
     "name": "stdout",
     "output_type": "stream",
     "text": [
      "Converged after 38 iterations.\n",
      "Block 35 completed\n"
     ]
    },
    {
     "name": "stderr",
     "output_type": "stream",
     "text": [
      "                                                                                \r"
     ]
    },
    {
     "name": "stdout",
     "output_type": "stream",
     "text": [
      "Converged after 16 iterations.\n",
      "Block 36 completed\n"
     ]
    },
    {
     "name": "stderr",
     "output_type": "stream",
     "text": [
      "                                                                                \r"
     ]
    },
    {
     "name": "stdout",
     "output_type": "stream",
     "text": [
      "Converged after 67 iterations.\n",
      "Block 37 completed\n"
     ]
    },
    {
     "name": "stderr",
     "output_type": "stream",
     "text": [
      "                                                                                \r"
     ]
    },
    {
     "name": "stdout",
     "output_type": "stream",
     "text": [
      "Converged after 82 iterations.\n",
      "Block 38 completed\n"
     ]
    },
    {
     "name": "stderr",
     "output_type": "stream",
     "text": [
      "                                                                                \r"
     ]
    },
    {
     "name": "stdout",
     "output_type": "stream",
     "text": [
      "Converged after 28 iterations.\n",
      "Block 39 completed\n"
     ]
    }
   ],
   "source": [
    "# Set the desired range of blocks to run (0 to 9)\n",
    "start_block = 30\n",
    "end_block = 39\n",
    "\n",
    "# Iterate over the specified range of blocks\n",
    "for block_number in range(start_block, end_block + 1):\n",
    "    # Read the r_new_block from text file\n",
    "    r_new_block_path = f'r_new_block_{block_number}'\n",
    "    r_new_block = sc.textFile(r_new_block_path).map(eval)\n",
    "\n",
    "    # Create a set of destination nodes from r_new_block\n",
    "    destination_nodes_set = set(r_new_block.map(lambda x: x[0]).collect())\n",
    "\n",
    "    # Divide M into the corresponding block\n",
    "    M_block = divide_M_into_blocks(result_rdd, destination_nodes_set)\n",
    "\n",
    "    # Perform PageRank computation for the current block\n",
    "    pagerank_results = compute_pagerank_for_block(r_new_block, M_block)\n",
    "\n",
    "    # Open the CSV file in append mode and write the PageRank results for the current block\n",
    "    with open('final_pageranks3.csv', 'a', newline='') as csv_file:\n",
    "        csv_writer = csv.writer(csv_file)\n",
    "\n",
    "        # Write the header row if the file is empty\n",
    "        if csv_file.tell() == 0:\n",
    "            csv_writer.writerow(['Node', 'PageRank'])\n",
    "\n",
    "        for node, pagerank in pagerank_results.collect():\n",
    "            csv_writer.writerow([node, pagerank])\n",
    "\n",
    "    # Print the block number completed\n",
    "    print(f\"Block {block_number} completed\")\n"
   ]
  },
  {
   "cell_type": "code",
   "execution_count": 7,
   "id": "77846395-dd9a-462b-bf5c-6646acbfc5cc",
   "metadata": {},
   "outputs": [
    {
     "name": "stderr",
     "output_type": "stream",
     "text": [
      "                                                                                \r"
     ]
    },
    {
     "name": "stdout",
     "output_type": "stream",
     "text": [
      "Converged after 55 iterations.\n"
     ]
    },
    {
     "name": "stderr",
     "output_type": "stream",
     "text": [
      "                                                                                \r"
     ]
    },
    {
     "name": "stdout",
     "output_type": "stream",
     "text": [
      "Block 40 completed\n"
     ]
    },
    {
     "name": "stderr",
     "output_type": "stream",
     "text": [
      "                                                                                \r"
     ]
    },
    {
     "name": "stdout",
     "output_type": "stream",
     "text": [
      "Converged after 30 iterations.\n",
      "Block 41 completed\n"
     ]
    },
    {
     "name": "stderr",
     "output_type": "stream",
     "text": [
      "                                                                                \r"
     ]
    },
    {
     "name": "stdout",
     "output_type": "stream",
     "text": [
      "Converged after 39 iterations.\n",
      "Block 42 completed\n"
     ]
    },
    {
     "name": "stderr",
     "output_type": "stream",
     "text": [
      "                                                                                \r"
     ]
    },
    {
     "name": "stdout",
     "output_type": "stream",
     "text": [
      "Converged after 42 iterations.\n",
      "Block 43 completed\n"
     ]
    },
    {
     "name": "stderr",
     "output_type": "stream",
     "text": [
      "                                                                                \r"
     ]
    },
    {
     "name": "stdout",
     "output_type": "stream",
     "text": [
      "Converged after 35 iterations.\n",
      "Block 44 completed\n"
     ]
    },
    {
     "name": "stderr",
     "output_type": "stream",
     "text": [
      "                                                                                \r"
     ]
    },
    {
     "name": "stdout",
     "output_type": "stream",
     "text": [
      "Converged after 57 iterations.\n",
      "Block 45 completed\n"
     ]
    },
    {
     "name": "stderr",
     "output_type": "stream",
     "text": [
      "                                                                                \r"
     ]
    },
    {
     "name": "stdout",
     "output_type": "stream",
     "text": [
      "Converged after 69 iterations.\n",
      "Block 46 completed\n"
     ]
    },
    {
     "name": "stderr",
     "output_type": "stream",
     "text": [
      "                                                                                \r"
     ]
    },
    {
     "name": "stdout",
     "output_type": "stream",
     "text": [
      "Converged after 83 iterations.\n",
      "Block 47 completed\n"
     ]
    },
    {
     "name": "stderr",
     "output_type": "stream",
     "text": [
      "                                                                                \r"
     ]
    },
    {
     "name": "stdout",
     "output_type": "stream",
     "text": [
      "Converged after 37 iterations.\n",
      "Block 48 completed\n"
     ]
    },
    {
     "name": "stderr",
     "output_type": "stream",
     "text": [
      "                                                                                \r"
     ]
    },
    {
     "name": "stdout",
     "output_type": "stream",
     "text": [
      "Converged after 85 iterations.\n",
      "Block 49 completed\n"
     ]
    }
   ],
   "source": [
    "# Set the desired range of blocks to run (0 to 9)\n",
    "start_block = 40\n",
    "end_block = 49\n",
    "\n",
    "# Iterate over the specified range of blocks\n",
    "for block_number in range(start_block, end_block + 1):\n",
    "    # Read the r_new_block from text file\n",
    "    r_new_block_path = f'r_new_block_{block_number}'\n",
    "    r_new_block = sc.textFile(r_new_block_path).map(eval)\n",
    "\n",
    "    # Create a set of destination nodes from r_new_block\n",
    "    destination_nodes_set = set(r_new_block.map(lambda x: x[0]).collect())\n",
    "\n",
    "    # Divide M into the corresponding block\n",
    "    M_block = divide_M_into_blocks(result_rdd, destination_nodes_set)\n",
    "\n",
    "    # Perform PageRank computation for the current block\n",
    "    pagerank_results = compute_pagerank_for_block(r_new_block, M_block)\n",
    "\n",
    "    # Open the CSV file in append mode and write the PageRank results for the current block\n",
    "    with open('final_pageranks4.csv', 'a', newline='') as csv_file:\n",
    "        csv_writer = csv.writer(csv_file)\n",
    "\n",
    "        # Write the header row if the file is empty\n",
    "        if csv_file.tell() == 0:\n",
    "            csv_writer.writerow(['Node', 'PageRank'])\n",
    "\n",
    "        for node, pagerank in pagerank_results.collect():\n",
    "            csv_writer.writerow([node, pagerank])\n",
    "\n",
    "    # Print the block number completed\n",
    "    print(f\"Block {block_number} completed\")\n"
   ]
  },
  {
   "cell_type": "code",
   "execution_count": 8,
   "id": "6092ce79-0333-4f56-a3e0-80e656fd31b0",
   "metadata": {},
   "outputs": [
    {
     "name": "stderr",
     "output_type": "stream",
     "text": [
      "                                                                                \r"
     ]
    },
    {
     "name": "stdout",
     "output_type": "stream",
     "text": [
      "Converged after 23 iterations.\n",
      "Block 50 completed\n"
     ]
    },
    {
     "name": "stderr",
     "output_type": "stream",
     "text": [
      "                                                                                \r"
     ]
    },
    {
     "name": "stdout",
     "output_type": "stream",
     "text": [
      "Converged after 28 iterations.\n",
      "Block 51 completed\n"
     ]
    },
    {
     "name": "stderr",
     "output_type": "stream",
     "text": [
      "                                                                                \r"
     ]
    },
    {
     "name": "stdout",
     "output_type": "stream",
     "text": [
      "Converged after 40 iterations.\n",
      "Block 52 completed\n"
     ]
    },
    {
     "name": "stderr",
     "output_type": "stream",
     "text": [
      "                                                                                \r"
     ]
    },
    {
     "name": "stdout",
     "output_type": "stream",
     "text": [
      "Converged after 29 iterations.\n",
      "Block 53 completed\n"
     ]
    },
    {
     "name": "stderr",
     "output_type": "stream",
     "text": [
      "                                                                                \r"
     ]
    },
    {
     "name": "stdout",
     "output_type": "stream",
     "text": [
      "Converged after 19 iterations.\n",
      "Block 54 completed\n"
     ]
    },
    {
     "name": "stderr",
     "output_type": "stream",
     "text": [
      "                                                                                \r"
     ]
    },
    {
     "name": "stdout",
     "output_type": "stream",
     "text": [
      "Converged after 30 iterations.\n",
      "Block 55 completed\n"
     ]
    },
    {
     "name": "stderr",
     "output_type": "stream",
     "text": [
      "                                                                                \r"
     ]
    },
    {
     "name": "stdout",
     "output_type": "stream",
     "text": [
      "Converged after 54 iterations.\n",
      "Block 56 completed\n"
     ]
    },
    {
     "name": "stderr",
     "output_type": "stream",
     "text": [
      "                                                                                \r"
     ]
    },
    {
     "name": "stdout",
     "output_type": "stream",
     "text": [
      "Converged after 39 iterations.\n",
      "Block 57 completed\n"
     ]
    },
    {
     "name": "stderr",
     "output_type": "stream",
     "text": [
      "                                                                                \r"
     ]
    },
    {
     "name": "stdout",
     "output_type": "stream",
     "text": [
      "Converged after 43 iterations.\n",
      "Block 58 completed\n"
     ]
    },
    {
     "name": "stderr",
     "output_type": "stream",
     "text": [
      "                                                                                \r"
     ]
    },
    {
     "name": "stdout",
     "output_type": "stream",
     "text": [
      "Converged after 80 iterations.\n",
      "Block 59 completed\n"
     ]
    }
   ],
   "source": [
    "# Set the desired range of blocks to run (0 to 9)\n",
    "start_block = 50\n",
    "end_block = 59\n",
    "\n",
    "# Iterate over the specified range of blocks\n",
    "for block_number in range(start_block, end_block + 1):\n",
    "    # Read the r_new_block from text file\n",
    "    r_new_block_path = f'r_new_block_{block_number}'\n",
    "    r_new_block = sc.textFile(r_new_block_path).map(eval)\n",
    "\n",
    "    # Create a set of destination nodes from r_new_block\n",
    "    destination_nodes_set = set(r_new_block.map(lambda x: x[0]).collect())\n",
    "\n",
    "    # Divide M into the corresponding block\n",
    "    M_block = divide_M_into_blocks(result_rdd, destination_nodes_set)\n",
    "\n",
    "    # Perform PageRank computation for the current block\n",
    "    pagerank_results = compute_pagerank_for_block(r_new_block, M_block)\n",
    "\n",
    "    # Open the CSV file in append mode and write the PageRank results for the current block\n",
    "    with open('final_pageranks5.csv', 'a', newline='') as csv_file:\n",
    "        csv_writer = csv.writer(csv_file)\n",
    "\n",
    "        # Write the header row if the file is empty\n",
    "        if csv_file.tell() == 0:\n",
    "            csv_writer.writerow(['Node', 'PageRank'])\n",
    "\n",
    "        for node, pagerank in pagerank_results.collect():\n",
    "            csv_writer.writerow([node, pagerank])\n",
    "\n",
    "    # Print the block number completed\n",
    "    print(f\"Block {block_number} completed\")\n"
   ]
  },
  {
   "cell_type": "code",
   "execution_count": 9,
   "id": "a33045a7-053f-472e-bc9a-ca758dc5117a",
   "metadata": {},
   "outputs": [
    {
     "name": "stderr",
     "output_type": "stream",
     "text": [
      "                                                                                \r"
     ]
    },
    {
     "name": "stdout",
     "output_type": "stream",
     "text": [
      "Converged after 85 iterations.\n",
      "Block 60 completed\n"
     ]
    },
    {
     "name": "stderr",
     "output_type": "stream",
     "text": [
      "                                                                                \r"
     ]
    },
    {
     "name": "stdout",
     "output_type": "stream",
     "text": [
      "Converged after 51 iterations.\n",
      "Block 61 completed\n"
     ]
    },
    {
     "name": "stderr",
     "output_type": "stream",
     "text": [
      "                                                                                \r"
     ]
    },
    {
     "name": "stdout",
     "output_type": "stream",
     "text": [
      "Converged after 63 iterations.\n",
      "Block 62 completed\n"
     ]
    },
    {
     "name": "stderr",
     "output_type": "stream",
     "text": [
      "                                                                                \r"
     ]
    },
    {
     "name": "stdout",
     "output_type": "stream",
     "text": [
      "Converged after 69 iterations.\n"
     ]
    },
    {
     "name": "stderr",
     "output_type": "stream",
     "text": [
      "                                                                                \r"
     ]
    },
    {
     "name": "stdout",
     "output_type": "stream",
     "text": [
      "Block 63 completed\n"
     ]
    },
    {
     "name": "stderr",
     "output_type": "stream",
     "text": [
      "                                                                                \r"
     ]
    },
    {
     "name": "stdout",
     "output_type": "stream",
     "text": [
      "Converged after 47 iterations.\n"
     ]
    },
    {
     "name": "stderr",
     "output_type": "stream",
     "text": [
      "                                                                                \r"
     ]
    },
    {
     "name": "stdout",
     "output_type": "stream",
     "text": [
      "Block 64 completed\n"
     ]
    },
    {
     "name": "stderr",
     "output_type": "stream",
     "text": [
      "                                                                                \r"
     ]
    },
    {
     "name": "stdout",
     "output_type": "stream",
     "text": [
      "Converged after 84 iterations.\n"
     ]
    },
    {
     "name": "stderr",
     "output_type": "stream",
     "text": [
      "                                                                                \r"
     ]
    },
    {
     "name": "stdout",
     "output_type": "stream",
     "text": [
      "Block 65 completed\n"
     ]
    },
    {
     "name": "stderr",
     "output_type": "stream",
     "text": [
      "                                                                                \r"
     ]
    },
    {
     "name": "stdout",
     "output_type": "stream",
     "text": [
      "Converged after 47 iterations.\n"
     ]
    },
    {
     "name": "stderr",
     "output_type": "stream",
     "text": [
      "                                                                                \r"
     ]
    },
    {
     "name": "stdout",
     "output_type": "stream",
     "text": [
      "Block 66 completed\n"
     ]
    },
    {
     "name": "stderr",
     "output_type": "stream",
     "text": [
      "                                                                                \r"
     ]
    },
    {
     "name": "stdout",
     "output_type": "stream",
     "text": [
      "Converged after 36 iterations.\n"
     ]
    },
    {
     "name": "stderr",
     "output_type": "stream",
     "text": [
      "                                                                                \r"
     ]
    },
    {
     "name": "stdout",
     "output_type": "stream",
     "text": [
      "Block 67 completed\n"
     ]
    },
    {
     "name": "stderr",
     "output_type": "stream",
     "text": [
      "                                                                                \r"
     ]
    },
    {
     "name": "stdout",
     "output_type": "stream",
     "text": [
      "Converged after 73 iterations.\n",
      "Block 68 completed\n"
     ]
    },
    {
     "name": "stderr",
     "output_type": "stream",
     "text": [
      "                                                                                \r"
     ]
    },
    {
     "name": "stdout",
     "output_type": "stream",
     "text": [
      "Converged after 81 iterations.\n",
      "Block 69 completed\n"
     ]
    }
   ],
   "source": [
    "# Set the desired range of blocks to run (0 to 9)\n",
    "start_block = 60\n",
    "end_block = 69\n",
    "\n",
    "# Iterate over the specified range of blocks\n",
    "for block_number in range(start_block, end_block + 1):\n",
    "    # Read the r_new_block from text file\n",
    "    r_new_block_path = f'r_new_block_{block_number}'\n",
    "    r_new_block = sc.textFile(r_new_block_path).map(eval)\n",
    "\n",
    "    # Create a set of destination nodes from r_new_block\n",
    "    destination_nodes_set = set(r_new_block.map(lambda x: x[0]).collect())\n",
    "\n",
    "    # Divide M into the corresponding block\n",
    "    M_block = divide_M_into_blocks(result_rdd, destination_nodes_set)\n",
    "\n",
    "    # Perform PageRank computation for the current block\n",
    "    pagerank_results = compute_pagerank_for_block(r_new_block, M_block)\n",
    "\n",
    "    # Open the CSV file in append mode and write the PageRank results for the current block\n",
    "    with open('final_pageranks6.csv', 'a', newline='') as csv_file:\n",
    "        csv_writer = csv.writer(csv_file)\n",
    "\n",
    "        # Write the header row if the file is empty\n",
    "        if csv_file.tell() == 0:\n",
    "            csv_writer.writerow(['Node', 'PageRank'])\n",
    "\n",
    "        for node, pagerank in pagerank_results.collect():\n",
    "            csv_writer.writerow([node, pagerank])\n",
    "\n",
    "    # Print the block number completed\n",
    "    print(f\"Block {block_number} completed\")\n"
   ]
  },
  {
   "cell_type": "code",
   "execution_count": 6,
   "id": "63748678-6181-404c-8688-ec04da79c0a1",
   "metadata": {},
   "outputs": [
    {
     "name": "stderr",
     "output_type": "stream",
     "text": [
      "                                                                                \r"
     ]
    },
    {
     "name": "stdout",
     "output_type": "stream",
     "text": [
      "Converged after 43 iterations.\n",
      "Block 70 completed\n"
     ]
    },
    {
     "name": "stderr",
     "output_type": "stream",
     "text": [
      "                                                                                \r"
     ]
    },
    {
     "name": "stdout",
     "output_type": "stream",
     "text": [
      "Converged after 81 iterations.\n",
      "Block 71 completed\n"
     ]
    },
    {
     "name": "stderr",
     "output_type": "stream",
     "text": [
      "                                                                                \r"
     ]
    },
    {
     "name": "stdout",
     "output_type": "stream",
     "text": [
      "Converged after 34 iterations.\n",
      "Block 72 completed\n"
     ]
    },
    {
     "name": "stderr",
     "output_type": "stream",
     "text": [
      "                                                                                \r"
     ]
    },
    {
     "name": "stdout",
     "output_type": "stream",
     "text": [
      "Converged after 60 iterations.\n",
      "Block 73 completed\n"
     ]
    },
    {
     "name": "stderr",
     "output_type": "stream",
     "text": [
      "                                                                                \r"
     ]
    },
    {
     "name": "stdout",
     "output_type": "stream",
     "text": [
      "Converged after 36 iterations.\n",
      "Block 74 completed\n"
     ]
    },
    {
     "name": "stderr",
     "output_type": "stream",
     "text": [
      "                                                                                \r"
     ]
    },
    {
     "name": "stdout",
     "output_type": "stream",
     "text": [
      "Converged after 44 iterations.\n",
      "Block 75 completed\n"
     ]
    },
    {
     "name": "stderr",
     "output_type": "stream",
     "text": [
      "                                                                                \r"
     ]
    },
    {
     "name": "stdout",
     "output_type": "stream",
     "text": [
      "Converged after 17 iterations.\n",
      "Block 76 completed\n"
     ]
    },
    {
     "name": "stderr",
     "output_type": "stream",
     "text": [
      "                                                                                \r"
     ]
    },
    {
     "name": "stdout",
     "output_type": "stream",
     "text": [
      "Converged after 51 iterations.\n",
      "Block 77 completed\n"
     ]
    },
    {
     "name": "stderr",
     "output_type": "stream",
     "text": [
      "                                                                                \r"
     ]
    },
    {
     "name": "stdout",
     "output_type": "stream",
     "text": [
      "Converged after 24 iterations.\n",
      "Block 78 completed\n"
     ]
    },
    {
     "name": "stderr",
     "output_type": "stream",
     "text": [
      "                                                                                \r"
     ]
    },
    {
     "name": "stdout",
     "output_type": "stream",
     "text": [
      "Converged after 64 iterations.\n",
      "Block 79 completed\n"
     ]
    }
   ],
   "source": [
    "# Set the desired range of blocks to run (0 to 9)\n",
    "start_block = 70\n",
    "end_block = 79\n",
    "\n",
    "# Iterate over the specified range of blocks\n",
    "for block_number in range(start_block, end_block + 1):\n",
    "    # Read the r_new_block from text file\n",
    "    r_new_block_path = f'r_new_block_{block_number}'\n",
    "    r_new_block = sc.textFile(r_new_block_path).map(eval)\n",
    "\n",
    "    # Create a set of destination nodes from r_new_block\n",
    "    destination_nodes_set = set(r_new_block.map(lambda x: x[0]).collect())\n",
    "\n",
    "    # Divide M into the corresponding block\n",
    "    M_block = divide_M_into_blocks(result_rdd, destination_nodes_set)\n",
    "\n",
    "    # Perform PageRank computation for the current block\n",
    "    pagerank_results = compute_pagerank_for_block(r_new_block, M_block)\n",
    "\n",
    "    # Open the CSV file in append mode and write the PageRank results for the current block\n",
    "    with open('final_pageranks7.csv', 'a', newline='') as csv_file:\n",
    "        csv_writer = csv.writer(csv_file)\n",
    "\n",
    "        # Write the header row if the file is empty\n",
    "        if csv_file.tell() == 0:\n",
    "            csv_writer.writerow(['Node', 'PageRank'])\n",
    "\n",
    "        for node, pagerank in pagerank_results.collect():\n",
    "            csv_writer.writerow([node, pagerank])\n",
    "\n",
    "    # Print the block number completed\n",
    "    print(f\"Block {block_number} completed\")\n"
   ]
  },
  {
   "cell_type": "code",
   "execution_count": 7,
   "id": "34c052a9-c4f8-4b91-b320-fc529bffb1a8",
   "metadata": {},
   "outputs": [
    {
     "name": "stderr",
     "output_type": "stream",
     "text": [
      "                                                                                \r"
     ]
    },
    {
     "name": "stdout",
     "output_type": "stream",
     "text": [
      "Converged after 22 iterations.\n",
      "Block 80 completed\n"
     ]
    },
    {
     "name": "stderr",
     "output_type": "stream",
     "text": [
      "                                                                                \r"
     ]
    },
    {
     "name": "stdout",
     "output_type": "stream",
     "text": [
      "Converged after 75 iterations.\n",
      "Block 81 completed\n"
     ]
    },
    {
     "name": "stderr",
     "output_type": "stream",
     "text": [
      "                                                                                \r"
     ]
    },
    {
     "name": "stdout",
     "output_type": "stream",
     "text": [
      "Converged after 80 iterations.\n",
      "Block 82 completed\n"
     ]
    },
    {
     "name": "stderr",
     "output_type": "stream",
     "text": [
      "                                                                                \r"
     ]
    },
    {
     "name": "stdout",
     "output_type": "stream",
     "text": [
      "Converged after 67 iterations.\n",
      "Block 83 completed\n"
     ]
    },
    {
     "name": "stderr",
     "output_type": "stream",
     "text": [
      "                                                                                \r"
     ]
    },
    {
     "name": "stdout",
     "output_type": "stream",
     "text": [
      "Converged after 29 iterations.\n",
      "Block 84 completed\n"
     ]
    },
    {
     "name": "stderr",
     "output_type": "stream",
     "text": [
      "                                                                                \r"
     ]
    },
    {
     "name": "stdout",
     "output_type": "stream",
     "text": [
      "Converged after 43 iterations.\n",
      "Block 85 completed\n"
     ]
    },
    {
     "name": "stderr",
     "output_type": "stream",
     "text": [
      "                                                                                \r"
     ]
    },
    {
     "name": "stdout",
     "output_type": "stream",
     "text": [
      "Converged after 16 iterations.\n",
      "Block 86 completed\n"
     ]
    },
    {
     "name": "stderr",
     "output_type": "stream",
     "text": [
      "                                                                                \r"
     ]
    },
    {
     "name": "stdout",
     "output_type": "stream",
     "text": [
      "Converged after 54 iterations.\n",
      "Block 87 completed\n"
     ]
    },
    {
     "name": "stderr",
     "output_type": "stream",
     "text": [
      "                                                                                \r"
     ]
    },
    {
     "name": "stdout",
     "output_type": "stream",
     "text": [
      "Converged after 39 iterations.\n",
      "Block 88 completed\n"
     ]
    },
    {
     "name": "stderr",
     "output_type": "stream",
     "text": [
      "                                                                                \r"
     ]
    },
    {
     "name": "stdout",
     "output_type": "stream",
     "text": [
      "Converged after 77 iterations.\n",
      "Block 89 completed\n"
     ]
    }
   ],
   "source": [
    "# Set the desired range of blocks to run (0 to 9)\n",
    "start_block = 80\n",
    "end_block = 89\n",
    "\n",
    "# Iterate over the specified range of blocks\n",
    "for block_number in range(start_block, end_block + 1):\n",
    "    # Read the r_new_block from text file\n",
    "    r_new_block_path = f'r_new_block_{block_number}'\n",
    "    r_new_block = sc.textFile(r_new_block_path).map(eval)\n",
    "\n",
    "    # Create a set of destination nodes from r_new_block\n",
    "    destination_nodes_set = set(r_new_block.map(lambda x: x[0]).collect())\n",
    "\n",
    "    # Divide M into the corresponding block\n",
    "    M_block = divide_M_into_blocks(result_rdd, destination_nodes_set)\n",
    "\n",
    "    # Perform PageRank computation for the current block\n",
    "    pagerank_results = compute_pagerank_for_block(r_new_block, M_block)\n",
    "\n",
    "    # Open the CSV file in append mode and write the PageRank results for the current block\n",
    "    with open('final_pageranks8.csv', 'a', newline='') as csv_file:\n",
    "        csv_writer = csv.writer(csv_file)\n",
    "\n",
    "        # Write the header row if the file is empty\n",
    "        if csv_file.tell() == 0:\n",
    "            csv_writer.writerow(['Node', 'PageRank'])\n",
    "\n",
    "        for node, pagerank in pagerank_results.collect():\n",
    "            csv_writer.writerow([node, pagerank])\n",
    "\n",
    "    # Print the block number completed\n",
    "    print(f\"Block {block_number} completed\")\n"
   ]
  },
  {
   "cell_type": "code",
   "execution_count": 8,
   "id": "ac545571-8ee7-49d9-ad5c-0d10ad4c4647",
   "metadata": {},
   "outputs": [
    {
     "name": "stderr",
     "output_type": "stream",
     "text": [
      "                                                                                \r"
     ]
    },
    {
     "name": "stdout",
     "output_type": "stream",
     "text": [
      "Converged after 27 iterations.\n",
      "Block 90 completed\n"
     ]
    },
    {
     "name": "stderr",
     "output_type": "stream",
     "text": [
      "                                                                                \r"
     ]
    },
    {
     "name": "stdout",
     "output_type": "stream",
     "text": [
      "Converged after 44 iterations.\n",
      "Block 91 completed\n"
     ]
    },
    {
     "name": "stderr",
     "output_type": "stream",
     "text": [
      "                                                                                \r"
     ]
    },
    {
     "name": "stdout",
     "output_type": "stream",
     "text": [
      "Converged after 25 iterations.\n",
      "Block 92 completed\n"
     ]
    },
    {
     "name": "stderr",
     "output_type": "stream",
     "text": [
      "                                                                                \r"
     ]
    },
    {
     "name": "stdout",
     "output_type": "stream",
     "text": [
      "Converged after 37 iterations.\n",
      "Block 93 completed\n"
     ]
    },
    {
     "name": "stderr",
     "output_type": "stream",
     "text": [
      "                                                                                \r"
     ]
    },
    {
     "name": "stdout",
     "output_type": "stream",
     "text": [
      "Converged after 47 iterations.\n",
      "Block 94 completed\n"
     ]
    },
    {
     "name": "stderr",
     "output_type": "stream",
     "text": [
      "                                                                                \r"
     ]
    },
    {
     "name": "stdout",
     "output_type": "stream",
     "text": [
      "Converged after 30 iterations.\n",
      "Block 95 completed\n"
     ]
    },
    {
     "name": "stderr",
     "output_type": "stream",
     "text": [
      "                                                                                \r"
     ]
    },
    {
     "name": "stdout",
     "output_type": "stream",
     "text": [
      "Converged after 45 iterations.\n",
      "Block 96 completed\n"
     ]
    },
    {
     "name": "stderr",
     "output_type": "stream",
     "text": [
      "                                                                                \r"
     ]
    },
    {
     "name": "stdout",
     "output_type": "stream",
     "text": [
      "Converged after 59 iterations.\n",
      "Block 97 completed\n"
     ]
    },
    {
     "name": "stderr",
     "output_type": "stream",
     "text": [
      "                                                                                \r"
     ]
    },
    {
     "name": "stdout",
     "output_type": "stream",
     "text": [
      "Converged after 37 iterations.\n",
      "Block 98 completed\n"
     ]
    },
    {
     "name": "stderr",
     "output_type": "stream",
     "text": [
      "                                                                                \r"
     ]
    },
    {
     "name": "stdout",
     "output_type": "stream",
     "text": [
      "Converged after 50 iterations.\n",
      "Block 99 completed\n"
     ]
    }
   ],
   "source": [
    "# Set the desired range of blocks to run (0 to 9)\n",
    "start_block = 90\n",
    "end_block = 99\n",
    "\n",
    "# Iterate over the specified range of blocks\n",
    "for block_number in range(start_block, end_block + 1):\n",
    "    # Read the r_new_block from text file\n",
    "    r_new_block_path = f'r_new_block_{block_number}'\n",
    "    r_new_block = sc.textFile(r_new_block_path).map(eval)\n",
    "\n",
    "    # Create a set of destination nodes from r_new_block\n",
    "    destination_nodes_set = set(r_new_block.map(lambda x: x[0]).collect())\n",
    "\n",
    "    # Divide M into the corresponding block\n",
    "    M_block = divide_M_into_blocks(result_rdd, destination_nodes_set)\n",
    "\n",
    "    # Perform PageRank computation for the current block\n",
    "    pagerank_results = compute_pagerank_for_block(r_new_block, M_block)\n",
    "\n",
    "    # Open the CSV file in append mode and write the PageRank results for the current block\n",
    "    with open('final_pageranks9.csv', 'a', newline='') as csv_file:\n",
    "        csv_writer = csv.writer(csv_file)\n",
    "\n",
    "        # Write the header row if the file is empty\n",
    "        if csv_file.tell() == 0:\n",
    "            csv_writer.writerow(['Node', 'PageRank'])\n",
    "\n",
    "        for node, pagerank in pagerank_results.collect():\n",
    "            csv_writer.writerow([node, pagerank])\n",
    "\n",
    "    # Print the block number completed\n",
    "    print(f\"Block {block_number} completed\")\n"
   ]
  },
  {
   "cell_type": "code",
   "execution_count": null,
   "id": "6101e4f9-3527-4ecc-a864-4121e5c00dbd",
   "metadata": {},
   "outputs": [],
   "source": []
  },
  {
   "cell_type": "code",
   "execution_count": null,
   "id": "f01bbc55-18fc-4f97-a714-3a44c56f618c",
   "metadata": {},
   "outputs": [],
   "source": []
  },
  {
   "cell_type": "code",
   "execution_count": null,
   "id": "f5c52257-3e25-40ee-8909-7b8ba2e24f9a",
   "metadata": {},
   "outputs": [],
   "source": []
  },
  {
   "cell_type": "code",
   "execution_count": null,
   "id": "9128b139-8d26-4c35-bed8-fd7f3ac2b209",
   "metadata": {},
   "outputs": [],
   "source": []
  },
  {
   "cell_type": "code",
   "execution_count": null,
   "id": "1de718b2-a3df-42f3-9817-48735708c08e",
   "metadata": {},
   "outputs": [],
   "source": []
  },
  {
   "cell_type": "code",
   "execution_count": null,
   "id": "cadb4171-b1c2-4691-be11-6182a0e16e35",
   "metadata": {},
   "outputs": [],
   "source": []
  },
  {
   "cell_type": "code",
   "execution_count": null,
   "id": "883cc1ff-21b2-4b75-b66b-8afb5a3988e9",
   "metadata": {},
   "outputs": [],
   "source": []
  },
  {
   "cell_type": "code",
   "execution_count": null,
   "id": "5b928097-d5a0-4e03-9ccf-c0cd01def439",
   "metadata": {},
   "outputs": [],
   "source": []
  },
  {
   "cell_type": "code",
   "execution_count": 3,
   "id": "573d1c79-44f3-47b8-a855-b6c07d9ab0e1",
   "metadata": {
    "tags": []
   },
   "outputs": [
    {
     "name": "stderr",
     "output_type": "stream",
     "text": [
      "                                                                                \r"
     ]
    },
    {
     "name": "stdout",
     "output_type": "stream",
     "text": [
      "Converged after 31 iterations.\n",
      "Block 0 completed\n"
     ]
    },
    {
     "name": "stderr",
     "output_type": "stream",
     "text": [
      "                                                                                \r"
     ]
    },
    {
     "name": "stdout",
     "output_type": "stream",
     "text": [
      "Converged after 77 iterations.\n",
      "Block 1 completed\n"
     ]
    },
    {
     "name": "stderr",
     "output_type": "stream",
     "text": [
      "                                                                                \r"
     ]
    },
    {
     "name": "stdout",
     "output_type": "stream",
     "text": [
      "Converged after 37 iterations.\n",
      "Block 2 completed\n"
     ]
    },
    {
     "name": "stderr",
     "output_type": "stream",
     "text": [
      "                                                                                \r"
     ]
    },
    {
     "name": "stdout",
     "output_type": "stream",
     "text": [
      "Converged after 43 iterations.\n",
      "Block 3 completed\n"
     ]
    },
    {
     "name": "stderr",
     "output_type": "stream",
     "text": [
      "                                                                                \r"
     ]
    },
    {
     "name": "stdout",
     "output_type": "stream",
     "text": [
      "Converged after 49 iterations.\n",
      "Block 4 completed\n"
     ]
    }
   ],
   "source": [
    "import csv\n",
    "\n",
    "# Initialize a CSV file for storing PageRank results\n",
    "csv_file = open('final_pageranks0.csv', 'w', newline='')\n",
    "csv_writer = csv.writer(csv_file)\n",
    "\n",
    "# Set the desired number of blocks to run (0 to 9, a total of 10 blocks)\n",
    "num_blocks_to_run = 5\n",
    "\n",
    "# Iterate over each r_new block\n",
    "for block_number, r_new_block in enumerate(r_new_blocks, start=0):\n",
    "    # Create a set of destination nodes from r_new_block\n",
    "    destination_nodes_set = set(r_new_block.map(lambda x: x[0]).collect())\n",
    "\n",
    "    # Divide M into the corresponding block\n",
    "    M_block = divide_M_into_blocks(result_rdd, destination_nodes_set)\n",
    "\n",
    "    # Perform PageRank computation for the current block\n",
    "    pagerank_results = compute_pagerank_for_block(r_new_block, M_block)\n",
    "\n",
    "    # Open the CSV file in append mode and write the PageRank results for the current block\n",
    "    with open('final_pageranks0.csv', 'a', newline='') as csv_file:\n",
    "        csv_writer = csv.writer(csv_file)\n",
    "        \n",
    "        # Write the header row if the file is empty\n",
    "        if csv_file.tell() == 0:\n",
    "            csv_writer.writerow(['Node', 'PageRank'])\n",
    "        \n",
    "        for node, pagerank in pagerank_results.collect():\n",
    "            csv_writer.writerow([node, pagerank])\n",
    "\n",
    "    # Print the block number completed\n",
    "    print(f\"Block {block_number} completed\")\n",
    "\n",
    "    # Check if the desired number of blocks have been processed\n",
    "    if block_number + 1 == num_blocks_to_run:\n",
    "        break\n",
    "\n",
    "# Close the CSV file after all iterations\n",
    "csv_file.close()\n"
   ]
  },
  {
   "cell_type": "code",
   "execution_count": null,
   "id": "445c4256-be7f-4e09-929f-2b113b6578f0",
   "metadata": {},
   "outputs": [],
   "source": []
  }
 ],
 "metadata": {
  "kernelspec": {
   "display_name": "Spark 3 in Python 3",
   "language": "python",
   "name": "pyspark3"
  },
  "language_info": {
   "codemirror_mode": {
    "name": "ipython",
    "version": 3
   },
   "file_extension": ".py",
   "mimetype": "text/x-python",
   "name": "python",
   "nbconvert_exporter": "python",
   "pygments_lexer": "ipython3",
   "version": "3.10.8"
  }
 },
 "nbformat": 4,
 "nbformat_minor": 5
}
